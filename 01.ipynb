{
 "cells": [
  {
   "cell_type": "markdown",
   "metadata": {},
   "source": [
    "<small><small><i>\n",
    "Este notebook foi baseado nos notebooks disponíveis em [https://gitlab.erc.monash.edu.au/andrease/Python4Maths.git]\n",
    "</i></small></small>"
   ]
  },
  {
   "cell_type": "markdown",
   "metadata": {},
   "source": [
    "# Primeiros passos\n",
    "Python pode ser usado como uma calculadora. Basta escrever expressões e elas serão avaliadas.\n",
    "\n",
    "## Sintaxe básica de expressões \n",
    "As regras básicas para escrever uma expressão simples em Python são:\n",
    "* Não usar espaços ou tabulações no começo de uma expressão.\n",
    "* O caracter '#' indica que o resto da linha é um comentário.\n",
    "* Expressões terminam no final da linha.\n",
    "\n",
    "Os notebooks Jupyter que usaremos nesta disciplina conseguem executar código Python. \n",
    "\n",
    "Escreva algumas expressões de teste na célula abaixo e clique no botão de Play para executá-la (ou aperte Shift+Enter)."
   ]
  },
  {
   "cell_type": "code",
   "execution_count": null,
   "metadata": {
    "collapsed": false
   },
   "outputs": [],
   "source": [
    "1+2+3"
   ]
  },
  {
   "cell_type": "markdown",
   "metadata": {},
   "source": [
    "## Operadores aritméticos\n",
    "\n",
    "Operadores aritméticos são utilizados para construir **expressões aritméticas**. \n",
    "\n",
    "As regras básicas sobre expressões aritméticas em Python são:\n",
    "\n",
    "* Em geral, a precedência dos operadores em Python segue a precedência que conhecemos da matemática. \n",
    "* Assim como na matemática, é possível usar parênteses para mudar a ordem de avaliação de uma expressão.\n",
    "* Caso reste apenas operações de mesma precedência, a expressão passa a ser avaliada da esquerda para a direita.\n",
    "\n",
    "Alguns dos operadores aritméticos disponíveis em Python estão listados abaixo. "
   ]
  },
  {
   "cell_type": "markdown",
   "metadata": {},
   "source": [
    "| Símbolo | Operação |\n",
    "|:----:|---|\n",
    "| +  | Adição |\n",
    "| -  | Subtração |\n",
    "| /  | Divisão |\n",
    "| // | Divisão inteira |\n",
    "| %  | Resto |\n",
    "| *  | Multiplicação |\n",
    "| **  | Exponenciação |"
   ]
  },
  {
   "cell_type": "code",
   "execution_count": null,
   "metadata": {
    "collapsed": false
   },
   "outputs": [],
   "source": [
    "1+2+5"
   ]
  },
  {
   "cell_type": "code",
   "execution_count": null,
   "metadata": {
    "collapsed": false
   },
   "outputs": [],
   "source": [
    "2-1"
   ]
  },
  {
   "cell_type": "code",
   "execution_count": null,
   "metadata": {
    "collapsed": false
   },
   "outputs": [],
   "source": [
    "1*2"
   ]
  },
  {
   "cell_type": "code",
   "execution_count": null,
   "metadata": {
    "collapsed": false,
    "scrolled": true
   },
   "outputs": [],
   "source": [
    "3/4"
   ]
  },
  {
   "cell_type": "code",
   "execution_count": null,
   "metadata": {
    "collapsed": false
   },
   "outputs": [],
   "source": [
    "2 ** 3"
   ]
  },
  {
   "cell_type": "markdown",
   "metadata": {},
   "source": [
    "### Divisão inteira\n",
    "\n",
    "Os operadores // e % trabalham com divisão inteira. Por exemplo, dividir 15 por 10 considerando apenas número inteiros é igual a 1. O resto da divisão é igual a 15 - (10*1), ou seja, 5."
   ]
  },
  {
   "cell_type": "code",
   "execution_count": null,
   "metadata": {
    "collapsed": false,
    "scrolled": true
   },
   "outputs": [],
   "source": [
    "15//10"
   ]
  },
  {
   "cell_type": "code",
   "execution_count": null,
   "metadata": {
    "collapsed": false,
    "scrolled": true
   },
   "outputs": [],
   "source": [
    "15%10"
   ]
  },
  {
   "cell_type": "markdown",
   "metadata": {},
   "source": [
    "### Exercícios de fixação"
   ]
  },
  {
   "cell_type": "markdown",
   "metadata": {},
   "source": [
    "1 - Calcule o produto dos números 11 e 12."
   ]
  },
  {
   "cell_type": "code",
   "execution_count": null,
   "metadata": {
    "collapsed": false
   },
   "outputs": [],
   "source": []
  },
  {
   "cell_type": "markdown",
   "metadata": {},
   "source": [
    "2 - Calcule o quadrado do número 16."
   ]
  },
  {
   "cell_type": "code",
   "execution_count": null,
   "metadata": {
    "collapsed": false
   },
   "outputs": [],
   "source": []
  },
  {
   "cell_type": "markdown",
   "metadata": {},
   "source": [
    "3 - Calcule o resto da divisão de 227 por 20."
   ]
  },
  {
   "cell_type": "code",
   "execution_count": null,
   "metadata": {
    "collapsed": false
   },
   "outputs": [],
   "source": []
  },
  {
   "cell_type": "markdown",
   "metadata": {},
   "source": [
    "4 - Calcule a raiz quadrada de 1024."
   ]
  },
  {
   "cell_type": "code",
   "execution_count": null,
   "metadata": {
    "collapsed": false
   },
   "outputs": [],
   "source": []
  },
  {
   "cell_type": "markdown",
   "metadata": {},
   "source": [
    "# Variáveis"
   ]
  },
  {
   "cell_type": "markdown",
   "metadata": {},
   "source": [
    "Uma palavra que seja usada para representar um valor é chamada *variável*. \n",
    "\n",
    "Em Python, **declarar** uma variável é associá-la a um valor, como mostrado abaixo:"
   ]
  },
  {
   "cell_type": "code",
   "execution_count": null,
   "metadata": {
    "collapsed": false,
    "scrolled": true
   },
   "outputs": [],
   "source": [
    "x = 2          # qualquer coisa após o # é um comentário\n",
    "y = 5\n",
    "x + y"
   ]
  },
  {
   "cell_type": "markdown",
   "metadata": {},
   "source": [
    "Múltiplas variáveis podem estar associadas ao mesmo valor."
   ]
  },
  {
   "cell_type": "code",
   "execution_count": null,
   "metadata": {
    "collapsed": false
   },
   "outputs": [],
   "source": [
    "x = y = 1\n",
    "y"
   ]
  },
  {
   "cell_type": "markdown",
   "metadata": {},
   "source": [
    "Python também permite que uma variável seja associada a um texto, escrito entre aspas simples ou duplas:"
   ]
  },
  {
   "cell_type": "code",
   "execution_count": null,
   "metadata": {
    "collapsed": false
   },
   "outputs": [],
   "source": [
    "texto = 'Este é um texto.' # textos podem ser escritos entre aspas simples\n",
    "texto"
   ]
  },
  {
   "cell_type": "code",
   "execution_count": null,
   "metadata": {
    "collapsed": false
   },
   "outputs": [],
   "source": [
    "outro_texto = \"Este é outro texto.\" # textos podem ser escritos entre aspas duplas\n",
    "outro_texto"
   ]
  },
  {
   "cell_type": "markdown",
   "metadata": {},
   "source": [
    "No entanto, você não deve misturar textos e valores numéricos:"
   ]
  },
  {
   "cell_type": "code",
   "execution_count": null,
   "metadata": {
    "collapsed": false
   },
   "outputs": [],
   "source": [
    "texto = \"Este é um texto\" + 3"
   ]
  },
  {
   "cell_type": "markdown",
   "metadata": {},
   "source": [
    "### Exercícios de fixação\n",
    "\n",
    "Para verificar que seu código está correto, lembre-se de acrescentar uma linha contendo apenas o nome da variável para visualizar o valor associado a ela."
   ]
  },
  {
   "cell_type": "markdown",
   "metadata": {},
   "source": [
    "5 - Declare uma variável chamada **numero** e a associe ao valor *10*."
   ]
  },
  {
   "cell_type": "code",
   "execution_count": null,
   "metadata": {
    "collapsed": false
   },
   "outputs": [],
   "source": []
  },
  {
   "cell_type": "markdown",
   "metadata": {},
   "source": [
    "6 - Declare uma variável chamada **nome** e a associe ao texto *Python*."
   ]
  },
  {
   "cell_type": "code",
   "execution_count": null,
   "metadata": {
    "collapsed": false
   },
   "outputs": [],
   "source": []
  },
  {
   "cell_type": "markdown",
   "metadata": {},
   "source": [
    "7 - Declare uma variável chamada **resto** e a associe ao resultado do operação de resto entre *234* e *10*."
   ]
  },
  {
   "cell_type": "code",
   "execution_count": null,
   "metadata": {
    "collapsed": false
   },
   "outputs": [],
   "source": []
  },
  {
   "cell_type": "markdown",
   "metadata": {},
   "source": [
    "8 - Declare uma variável chamada **k** e a associe ao valor *8*. Declare uma segunda variável chamada **quadrado_k** e a associe ao quadrado da variável **k**."
   ]
  },
  {
   "cell_type": "code",
   "execution_count": null,
   "metadata": {
    "collapsed": false
   },
   "outputs": [],
   "source": []
  },
  {
   "cell_type": "markdown",
   "metadata": {},
   "source": [
    "9 - Declare uma variável chamada **z** e a associe ao valor *256*. Declare uma segunda variável chamada **divisao_zk** e a associe ao resultado da divisão entre as variáveis **z** e **k**."
   ]
  },
  {
   "cell_type": "code",
   "execution_count": null,
   "metadata": {
    "collapsed": false
   },
   "outputs": [],
   "source": []
  },
  {
   "cell_type": "markdown",
   "metadata": {},
   "source": [
    "## Dados informados pelo usuário"
   ]
  },
  {
   "cell_type": "markdown",
   "metadata": {},
   "source": [
    "O procedimento **input()** solicita ao usuário dados que podem ser associados a variáveis. É possível personalizar a mensagem de solicitação, como mostrado abaixo."
   ]
  },
  {
   "cell_type": "code",
   "execution_count": 1,
   "metadata": {
    "collapsed": false
   },
   "outputs": [
    {
     "name": "stdout",
     "output_type": "stream",
     "text": [
      "Diga um valor: Leo\n"
     ]
    },
    {
     "data": {
      "text/plain": [
       "'Leo'"
      ]
     },
     "execution_count": 1,
     "metadata": {},
     "output_type": "execute_result"
    }
   ],
   "source": [
    "texto_usuario =  input(\"Diga um valor: \")\n",
    "texto_usuario"
   ]
  },
  {
   "cell_type": "markdown",
   "metadata": {},
   "source": [
    "Por padrão, qualquer dado passada pelo usuário será tratado como texto. Para tratá-lo como um valor numérico, você deve usar os procedimentos **int()** ou **float()**, dependendo de serem números inteiros ou reais."
   ]
  },
  {
   "cell_type": "code",
   "execution_count": null,
   "metadata": {
    "collapsed": false
   },
   "outputs": [],
   "source": [
    "inteiro = int(input(\"Diga um valor inteiro: \"))\n",
    "inteiro + 1"
   ]
  },
  {
   "cell_type": "code",
   "execution_count": null,
   "metadata": {
    "collapsed": false
   },
   "outputs": [],
   "source": [
    "real = float(input(\"Diga um valor real: \"))\n",
    "real + 1"
   ]
  },
  {
   "cell_type": "markdown",
   "metadata": {},
   "source": [
    "### Exercícios de fixação"
   ]
  },
  {
   "cell_type": "markdown",
   "metadata": {},
   "source": [
    "10 - Solicite ao usuário *seu nome* e o associe a uma variavél chamada **nome**."
   ]
  },
  {
   "cell_type": "code",
   "execution_count": null,
   "metadata": {
    "collapsed": true
   },
   "outputs": [],
   "source": []
  },
  {
   "cell_type": "markdown",
   "metadata": {},
   "source": [
    "11 - Solicite ao usuário *sua idade* e a associe a uma variável chamada **idade**."
   ]
  },
  {
   "cell_type": "code",
   "execution_count": null,
   "metadata": {
    "collapsed": true
   },
   "outputs": [],
   "source": []
  },
  {
   "cell_type": "markdown",
   "metadata": {},
   "source": [
    "12 - Solicite ao usuário *sua altura* e a associe a uma variável chamada **altura**."
   ]
  },
  {
   "cell_type": "code",
   "execution_count": null,
   "metadata": {
    "collapsed": true
   },
   "outputs": [],
   "source": []
  },
  {
   "cell_type": "markdown",
   "metadata": {},
   "source": [
    "## Informando dados ao usuário"
   ]
  },
  {
   "cell_type": "markdown",
   "metadata": {},
   "source": [
    "Assim como é possível receber dados do usuário, também é possível informar dados ao usuário.\n",
    "\n",
    "Para isto, usamos o procedimento **print()**."
   ]
  },
  {
   "cell_type": "code",
   "execution_count": null,
   "metadata": {
    "collapsed": false
   },
   "outputs": [],
   "source": [
    "print(texto)"
   ]
  },
  {
   "cell_type": "markdown",
   "metadata": {},
   "source": [
    "É possível informar os valores associados a múltiplas variáveis com uma única chamada ao procedimento print(). "
   ]
  },
  {
   "cell_type": "code",
   "execution_count": null,
   "metadata": {
    "collapsed": false
   },
   "outputs": [],
   "source": [
    "print(texto, x)"
   ]
  },
  {
   "cell_type": "markdown",
   "metadata": {},
   "source": [
    "Também é possível informar textos, valores e o resultado de expressões:"
   ]
  },
  {
   "cell_type": "code",
   "execution_count": null,
   "metadata": {
    "collapsed": false
   },
   "outputs": [],
   "source": [
    "print(\"Testando\", 3, x + y)"
   ]
  },
  {
   "cell_type": "markdown",
   "metadata": {},
   "source": [
    "### Exercícios de fixação"
   ]
  },
  {
   "cell_type": "markdown",
   "metadata": {},
   "source": [
    "13 - Informe ao usuário **seu nome**."
   ]
  },
  {
   "cell_type": "code",
   "execution_count": null,
   "metadata": {
    "collapsed": true
   },
   "outputs": [],
   "source": []
  },
  {
   "cell_type": "markdown",
   "metadata": {},
   "source": [
    "14 - Informe ao usuário **sua idade**."
   ]
  },
  {
   "cell_type": "code",
   "execution_count": null,
   "metadata": {
    "collapsed": true
   },
   "outputs": [],
   "source": []
  },
  {
   "cell_type": "markdown",
   "metadata": {},
   "source": [
    "15 - Informe ao usuário **seu índice de massa corporal (IMC)**. Para isso, solicite ao usuário seu peso."
   ]
  },
  {
   "cell_type": "code",
   "execution_count": null,
   "metadata": {
    "collapsed": true
   },
   "outputs": [],
   "source": []
  },
  {
   "cell_type": "markdown",
   "metadata": {},
   "source": [
    "## Exercícios do URI"
   ]
  },
  {
   "cell_type": "markdown",
   "metadata": {},
   "source": [
    "O URI é um juiz online utilizado em treinamentos para competições de programação.\n",
    "\n",
    "Nesta disciplina, utilizaremos exercícios inspirados na seção **Iniciante**, adaptados para o nosso contexto.\n",
    "\n",
    "Para ver a descrição do exercício em sua versão original do URI, clique no seu número."
   ]
  },
  {
   "cell_type": "markdown",
   "metadata": {},
   "source": [
    "[1008](https://www.urionlinejudge.com.br/judge/pt/problems/view/1008) - Um sistema do setor de recursos humanos de uma empresa deve calcular o salário a ser pago para cada funcionário da empresa em função de quantas horas o funcionário trabalhou no mês e de quanto ele recebe por hora trabalhada.\n",
    "\n",
    "Escreva um código Python que leia o nome de um funcionário, seu número de horas trabalhadas, o valor que recebe por hora e calcula seu salário. Em seguida, mostre o nome e o salário do funcionário."
   ]
  },
  {
   "cell_type": "markdown",
   "metadata": {},
   "source": [
    "| | Entrada | Saída |\n",
    "|-|----|---|\n",
    "| *Exemplo 1* | João 100 5.50  | João 550.00 | \n",
    "| *Exemplo 2* | Maria 200 20.50 | Maria 4100.00 |\n",
    "| *Exemplo 3* | Facebookson 145 15.55 | Facebookson 2254.75 |"
   ]
  },
  {
   "cell_type": "code",
   "execution_count": null,
   "metadata": {
    "collapsed": true
   },
   "outputs": [],
   "source": []
  },
  {
   "cell_type": "markdown",
   "metadata": {},
   "source": [
    "[1009](https://www.urionlinejudge.com.br/judge/pt/problems/view/1009) - No caso de empresas do setor de comércio, a remuneração mensal de cada vendedor é composta por um salário fixo mais uma bonificação proporcional às vendas efetuadas pelo vendedor naquele mês.\n",
    "\n",
    "Escreva um código Python que leia o nome de um vendedor, o seu salário fixo e o total de vendas efetuadas por ele no mês (em dinheiro). Sabendo que este vendedor ganha 15% de comissão sobre suas vendas efetuadas, informe o total que ele deverá receber no final do mês."
   ]
  },
  {
   "cell_type": "markdown",
   "metadata": {},
   "source": [
    "| | Entrada | Saída |\n",
    "|-|----|---|\n",
    "| *Exemplo 1* | João 500 1230.30  | João 684.54 | \n",
    "| *Exemplo 2* | Pedro 700 0.00 | Pedro 700.00 |\n",
    "| *Exemplo 3* | Mangojata 1700 1230.50 | Mangojata 1884.58 |"
   ]
  },
  {
   "cell_type": "code",
   "execution_count": null,
   "metadata": {
    "collapsed": true
   },
   "outputs": [],
   "source": []
  },
  {
   "cell_type": "markdown",
   "metadata": {},
   "source": [
    "[1010](https://www.urionlinejudge.com.br/judge/pt/problems/view/1010) - Outro tipo de sistema utilizado no setor de comércio é o sistema de frente de loja, que calcula o total de uma venda baseado nos itens adquiridos, suas quantidades e seus valores unitários.\n",
    "\n",
    "Escreva um código Python que leia as informações de dois produtos adquiridos em uma compra e informe o valor a ser pago. Para cada produto, leia seu código, sua quantidade e seu valor unitário."
   ]
  },
  {
   "cell_type": "markdown",
   "metadata": {},
   "source": [
    "| | Entrada | Saída |\n",
    "|-|----|---|\n",
    "| *Exemplo 1* | 12 1 5.30 <br> 16 2 5.10 | VALOR A PAGAR: R\\$ 15.50 |\n",
    "| *Exemplo 2* | 13 2 15.30 <br> 161 4 5.20 | VALOR A PAGAR: R\\$ 51.40 |\n",
    "| *Exemplo 3* | 1 1 15.10 <br> 2 1 15.10 | VALOR A PAGAR: R\\$ 30.20 |"
   ]
  },
  {
   "cell_type": "code",
   "execution_count": null,
   "metadata": {
    "collapsed": true
   },
   "outputs": [],
   "source": []
  },
  {
   "cell_type": "markdown",
   "metadata": {},
   "source": [
    "[1018](https://www.urionlinejudge.com.br/judge/pt/problems/view/1018) - Sistemas de frente de loja também devem auxiliar vendedores a dar trocos. Por simplicidade, vamos considerar primeiro apenas trocos inteiros, que podem ser dados usando apenas cédulas.\n",
    "\n",
    "Escreva um código Python que leia um valor de troco e informe quantas cédulas de cada valor devem ser entregues pelo vendedor ao cliente.\n",
    "\n",
    "**Obs.:** Considere que ainda existem notas de R\\$ 1,00."
   ]
  },
  {
   "cell_type": "markdown",
   "metadata": {},
   "source": [
    "| | Entrada | Saída |\n",
    "|-|----|---|\n",
    "| *Exemplo 1* | 576 | 5 nota(s) de R\\$ 100,00 <br /> 1 nota(s) de R\\$ 50,00 <br /> 1 nota(s) de R\\$ 20,00 <br /> 0 nota(s) de R\\$ 10,00 <br /> 1 nota(s) de R\\$ 5,00  <br /> 0 nota(s) de R\\$ 2,00  <br /> 1 nota(s) de R\\$ 1,00 |\n",
    "| *Exemplo 2* | 11257 | 112 nota(s) de R\\$ 100,00 <br /> 1 nota(s) de R\\$ 50,00 <br /> 0 nota(s) de R\\$ 20,00 <br /> 0 nota(s) de R\\$ 10,00 <br /> 1 nota(s) de R\\$ 5,00 <br /> 1 nota(s) de R\\$ 2,00 <br /> 0 nota(s) de R\\$ 1,00 |\n",
    "| *Exemplo 3* | 503 | 5 nota(s) de R\\$ 100,00 <br /> 0 nota(s) de R\\$ 50,00 <br /> 0 nota(s) de R\\$ 20,00 <br /> 0 nota(s) de R\\$ 10,00 <br /> 0 nota(s) de R\\$ 5,00 <br /> 1 nota(s) de R\\$ 2,00 <br /> 1 nota(s) de R\\$ 1,00 |"
   ]
  },
  {
   "cell_type": "code",
   "execution_count": null,
   "metadata": {
    "collapsed": false,
    "scrolled": true
   },
   "outputs": [],
   "source": []
  },
  {
   "cell_type": "markdown",
   "metadata": {},
   "source": [
    "[1021](https://www.urionlinejudge.com.br/judge/pt/problems/view/1021) - Agora vamos voltar ao mundo real, onde trocos podem precisar utilizar cédulas e moedas.\n",
    "\n",
    "Escreva um código Python que leia um valor de troco e informe quantas cédulas e moedas de cada valor devem ser entregues pelo vendedor ao cliente.\n",
    "\n",
    "**Obs.:** Considere que ainda existem moedas de R\\$ 0,01."
   ]
  },
  {
   "cell_type": "markdown",
   "metadata": {},
   "source": [
    "| | Entrada | Saída |\n",
    "|-|----|---|\n",
    "| *Exemplo 1* | 576.73 | NOTAS: <br /> 5 nota(s) de R\\$ 100,00 <br /> 1 nota(s) de R\\$ 50,00 <br /> 1 nota(s) de R\\$ 20,00 <br /> 0 nota(s) de R\\$ 10,00 <br /> 1 nota(s) de R\\$ 5,00  <br /> 0 nota(s) de R\\$ 2,00  <br /> MOEDAS: <br /> 1 moeda(s) de R\\$ 1,00 <br /> 1 moeda(s) de R\\$ 0,50 <br /> 0 moeda(s) de R\\$ 0,25 <br /> 2 moeda(s) de R\\$ 0,10 <br /> 0 moeda(s) de R\\$ 0,05 <br /> 3 moeda(s) de R\\$ 0,01 |\n",
    "| *Exemplo 2* | 4.00 | NOTAS: <br /> 0 nota(s) de R\\$ 100,00 <br /> 0 nota(s) de R\\$ 50,00 <br /> 0 nota(s) de R\\$ 20,00 <br /> 0 nota(s) de R\\$ 10,00 <br /> 0 nota(s) de R\\$ 5,00  <br /> 2 nota(s) de R\\$ 2,00 <br /> MOEDAS: <br /> 0 moeda(s) de R\\$ 1,00 <br /> 0 moeda(s) de R\\$ 0,50 <br /> 0 moeda(s) de R\\$ 0,25 <br /> 0 moeda(s) de R\\$ 0,10 <br /> 0 moeda(s) de R\\$ 0,05 <br /> 0 moeda(s) de R\\$ 0,01 |\n",
    "| *Exemplo 3* | 91.01 | NOTAS: <br /> 0 nota(s) de R\\$ 100,00 <br /> 1 nota(s) de R\\$ 50,00 <br /> 2 nota(s) de R\\$ 20,00 <br /> 0 nota(s) de R\\$ 10,00 <br /> 0 nota(s) de R\\$ 5,00  <br /> 0 nota(s) de R\\$ 2,00 <br /> MOEDAS: <br /> 1 moeda(s) de R\\$ 1,00 <br /> 0 moeda(s) de R\\$ 0,50 <br /> 0 moeda(s) de R\\$ 0,25 <br /> 0 moeda(s) de R\\$ 0,10 <br /> 0 moeda(s) de R\\$ 0,05 <br /> 1 moeda(s) de R\\$ 0,01 |"
   ]
  },
  {
   "cell_type": "code",
   "execution_count": null,
   "metadata": {
    "collapsed": true
   },
   "outputs": [],
   "source": []
  },
  {
   "cell_type": "markdown",
   "metadata": {},
   "source": [
    "[1019](https://www.urionlinejudge.com.br/judge/pt/problems/view/1019) - Sistemas de frente de loja também precisam registrar a data e o horário das vendas. \n",
    "\n",
    "Computadores normalmente armazenam datas utilizando uma única unidade de tempo, convertendo para o formato de apresentação desejado quando necessário. Por simplicidade, considere neste exercício que o dado informado representa apenas o horário da venda.\n",
    "\n",
    "Escreva um código Python que leia um valor em segundos e o converta para o formato *horas:minutos:segundos*.\n",
    "\n",
    "**Dica 1 --** a opção sep do procedimento print() permite configurar o caracter de separação entre as diferentes partes de uma impressão, como no exemplo abaixo."
   ]
  },
  {
   "cell_type": "code",
   "execution_count": null,
   "metadata": {
    "collapsed": false,
    "scrolled": true
   },
   "outputs": [],
   "source": [
    "print(10,33,51,sep=\":\")"
   ]
  },
  {
   "cell_type": "markdown",
   "metadata": {},
   "source": [
    "**Dica 2 --** é possível utilizar o procedimento print para impressão formatada. Pesquise o funcionamento da máscara de formatação abaixo:"
   ]
  },
  {
   "cell_type": "code",
   "execution_count": null,
   "metadata": {
    "collapsed": false
   },
   "outputs": [],
   "source": [
    "print(\"%02d:%02d:%02d\" % (9,33,51))"
   ]
  },
  {
   "cell_type": "markdown",
   "metadata": {},
   "source": [
    "| | Entrada | Saída |\n",
    "|-|----|---|\n",
    "| *Exemplo 1* | 556  | 00:09:16 | \n",
    "| *Exemplo 2* | 1 | 00:00:01 |\n",
    "| *Exemplo 3* | 86153 | 23:55:53 |"
   ]
  }
 ],
 "metadata": {
  "kernelspec": {
   "display_name": "Python 3",
   "language": "python",
   "name": "python3"
  },
  "language_info": {
   "codemirror_mode": {
    "name": "ipython",
    "version": 3
   },
   "file_extension": ".py",
   "mimetype": "text/x-python",
   "name": "python",
   "nbconvert_exporter": "python",
   "pygments_lexer": "ipython3",
   "version": "3.5.2"
  }
 },
 "nbformat": 4,
 "nbformat_minor": 1
}
