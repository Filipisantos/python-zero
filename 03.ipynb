{
 "cells": [
  {
   "cell_type": "markdown",
   "metadata": {},
   "source": [
    "<small><small><i>\n",
    "Este notebook foi baseado nos notebooks disponíveis em [https://gitlab.erc.monash.edu.au/andrease/Python4Maths.git]\n",
    "</i></small></small>"
   ]
  },
  {
   "cell_type": "markdown",
   "metadata": {},
   "source": [
    "# Repetindo sem perder o controle!\n",
    "\n",
    "Python permite que um trecho de código seja executado múltiplas vezes **estruturas de repetição**. \n",
    "\n",
    "Pra não perder o controle do seu código e cair em um loop infinito, estruturas de repetição se baseiam em **condições de parada**.\n",
    "\n",
    "Neste roteiro, você aprenderá a utilizar estes conceitos da linguagem Python.\n",
    "\n",
    "## Estruturas de repetição\n",
    "\n",
    "Muitas vezes, é necessário executar um mesmo trecho de código várias vezes:\n",
    "* Quando um sistema pede uma senha ao usuário, mas ele tem uma certa quantidade de tentativas possívels.\n",
    "* Quando queremos cadastrar múltiplos contatos em uma agenda.\n",
    "* Quando estamos calculando a média de várias avaliações de uma disciplina.\n",
    "\n",
    "Em todas essas situações, precisamos repetir um trecho de código **sem cair em um loop infinito**. Há três situações comuns:\n",
    "* Sabemos quantas vezes queremos executar um código.\n",
    "* Queremos executar um código enquanto uma condição for verdadeira.\n",
    "* Queremos executar um código até que determinada situação aconteça.\n",
    "\n",
    "Python oferece duas estruturas de repetição, que podem ser usadas nas situações descritas acima:"
   ]
  },
  {
   "cell_type": "markdown",
   "metadata": {},
   "source": [
    "| Estrutura | Significado |\n",
    "|:----:|---|\n",
    "| ```for``` | Sabemos quantas vezes queremos executar um código. |\n",
    "| ```while```  | Queremos executar um código até que determinada situação aconteça. <br> Queremos executar um código enquanto uma condição for verdadeira. |"
   ]
  },
  {
   "cell_type": "markdown",
   "metadata": {},
   "source": [
    "## A estrutura ```for```"
   ]
  },
  {
   "cell_type": "markdown",
   "metadata": {},
   "source": [
    "Quando sabemos quantas vezes queremos executar um código, a estrutura de repetição ```for``` deve ser nossa escolha:\n",
    "\n",
    "```python\n",
    "for iterador in intervalo:\n",
    "    expressao\n",
    "    expressao\n",
    "    ...\n",
    "```\n",
    "\n",
    "As regras básicas para o uso da estrutura **for** em Python são:\n",
    "\n",
    "* O trecho de código delimitado por uma estrutura **for** é chamado bloco e deve ser identado.\n",
    "* O procedimento **range(inicio, fim)** permite definir um intervalo de valores que a variavel **iterador** pode assumir durante a execução do ```for```. \n",
    "\n",
    "O exemplo abaixo mostra como esta estrutura pode ser usada para que um código seja repetido por 5 vezes:"
   ]
  },
  {
   "cell_type": "code",
   "execution_count": null,
   "metadata": {
    "collapsed": false,
    "scrolled": true
   },
   "outputs": [],
   "source": [
    "for i in range(0,5):\n",
    "    print(\"Execução\", i+1)"
   ]
  },
  {
   "cell_type": "markdown",
   "metadata": {},
   "source": [
    "Note que a função range define intervalos do tipo **[início, fim)**, isto é, valores maiores ou iguais a **início** e menores que **fim**.\n",
    "\n",
    "Também é possível definir intervalos mais elaborados, criando séries com diferentes crescimentos ou até mesmo decréscimos:"
   ]
  },
  {
   "cell_type": "code",
   "execution_count": null,
   "metadata": {
    "collapsed": false,
    "scrolled": true
   },
   "outputs": [],
   "source": [
    "# Série crescedo de 2 em 2\n",
    "for i in range(0,5,2):\n",
    "    print(\"Valor de i:\", i)"
   ]
  },
  {
   "cell_type": "code",
   "execution_count": null,
   "metadata": {
    "collapsed": false,
    "scrolled": true
   },
   "outputs": [],
   "source": [
    "# Série decrescendo de 5 em 5\n",
    "for i in range(15,-20,-5):\n",
    "    print(\"Valor de i:\", i)"
   ]
  },
  {
   "cell_type": "markdown",
   "metadata": {},
   "source": [
    "### Exercícios de fixação"
   ]
  },
  {
   "cell_type": "markdown",
   "metadata": {},
   "source": [
    "1 - Peça ao usuário suas notas das 3 unidades de uma disciplina e calcule sua média."
   ]
  },
  {
   "cell_type": "code",
   "execution_count": null,
   "metadata": {
    "collapsed": true
   },
   "outputs": [],
   "source": []
  },
  {
   "cell_type": "markdown",
   "metadata": {},
   "source": [
    "2 - Solicite ao usuário um inteiro positivo *n* e imprima a soma dos números pares entre 0 e *n*."
   ]
  },
  {
   "cell_type": "code",
   "execution_count": null,
   "metadata": {
    "collapsed": true
   },
   "outputs": [],
   "source": []
  },
  {
   "cell_type": "markdown",
   "metadata": {},
   "source": [
    "3 - Analise os números entre -25 e 50. Se o número for múltiplo de 2, imprima BUS. Se for múltiplo de 3, imprima FEES. Caso seja múltiplo de 2 e de 3 ao mesmo tempo, imprima BUS e FEES."
   ]
  },
  {
   "cell_type": "code",
   "execution_count": null,
   "metadata": {
    "collapsed": true
   },
   "outputs": [],
   "source": []
  },
  {
   "cell_type": "markdown",
   "metadata": {},
   "source": [
    "4 - Solicite ao usuário um inteiro positivo *n* e calcule o fatorial de *n*."
   ]
  },
  {
   "cell_type": "code",
   "execution_count": null,
   "metadata": {
    "collapsed": true
   },
   "outputs": [],
   "source": []
  },
  {
   "cell_type": "markdown",
   "metadata": {},
   "source": [
    "## A estrutura ```while```"
   ]
  },
  {
   "cell_type": "markdown",
   "metadata": {},
   "source": [
    "Quando queremos executar um código enquanto uma condição for verdadeira, a estrutura de repetição ```while``` deve ser nossa escolha:\n",
    "\n",
    "```python\n",
    "while condicao:\n",
    "    expressao\n",
    "    expressao\n",
    "    ...\n",
    "```\n",
    "\n",
    "As regras básicas para o uso da estrutura **while** em Python são:\n",
    "\n",
    "* O trecho de código delimitado por uma estrutura **while** é chamado bloco e deve ser identado.\n",
    "* O bloco delimitado por uma estrutura **while** será executado enquanto a expressão lógica (```condicao```) for verdadeira (```True```).\n",
    "\n",
    "Um exemplo de uso desta estrutura é o caso em que não se sabe quantas vezes será necessário executar um trecho de código:"
   ]
  },
  {
   "cell_type": "code",
   "execution_count": null,
   "metadata": {
    "collapsed": false,
    "scrolled": true
   },
   "outputs": [],
   "source": [
    "from random import randint\n",
    "\n",
    "n_multiplos = 0\n",
    "while n_multiplos < 3:\n",
    "    numero = randint(0,30)\n",
    "    if numero % 3 == 0:\n",
    "        n_multiplos += 1\n",
    "        print(\"Múltiplo #\", n_multiplos, \"-\", numero)"
   ]
  },
  {
   "cell_type": "markdown",
   "metadata": {},
   "source": [
    "Também é possível utilizar a estrutura de repetição ```while``` quando queremos executar um código até que uma determinada situação ocorra:\n",
    "\n",
    "```python\n",
    "while True:\n",
    "    expressao\n",
    "    expressao\n",
    "    ...\n",
    "    if condicao:\n",
    "        break\n",
    "```\n",
    "\n",
    "As regras básicas para o uso da estrutura **while** neste contexto são:\n",
    "\n",
    "* O bloco será executado uma ou mais vezes, até que a condição se torne verdadeira.\n",
    "* O comando **```break```** provoca a interrupção da repetição.\n",
    "\n",
    "O exemplo abaixo mostra como esta estrutura pode ser usada para solicitar uma senha ao usuário até que ele acerte a senha:"
   ]
  },
  {
   "cell_type": "code",
   "execution_count": null,
   "metadata": {
    "collapsed": false,
    "scrolled": false
   },
   "outputs": [],
   "source": [
    "senha_correta = \"swordfish\"\n",
    "while True:\n",
    "    senha = input(\"Informe sua senha: \")\n",
    "    if senha == senha_correta:\n",
    "        break\n",
    "    else:\n",
    "        print(\"Senha incorreta!\")"
   ]
  },
  {
   "cell_type": "markdown",
   "metadata": {},
   "source": [
    "### Exercícios de fixação"
   ]
  },
  {
   "cell_type": "markdown",
   "metadata": {},
   "source": [
    "1 - Sorteie um número entre 0 e 10 e peça ao usuário para tentar adivinhá-lo. Quando o usuário acertar o número, informe quantas tentativas foram necessárias."
   ]
  },
  {
   "cell_type": "code",
   "execution_count": null,
   "metadata": {
    "collapsed": true
   },
   "outputs": [],
   "source": []
  },
  {
   "cell_type": "markdown",
   "metadata": {
    "collapsed": true
   },
   "source": [
    "## Exercícios do URI"
   ]
  },
  {
   "cell_type": "markdown",
   "metadata": {
    "collapsed": true
   },
   "source": [
    "[]() - "
   ]
  },
  {
   "cell_type": "markdown",
   "metadata": {},
   "source": [
    "| | Entrada | Saída |\n",
    "|-|:----:|---|\n",
    "| *Exemplo 1* |  |  | \n",
    "| *Exemplo 2* |  |  |\n",
    "| *Exemplo 3* |  |  |"
   ]
  },
  {
   "cell_type": "code",
   "execution_count": null,
   "metadata": {
    "collapsed": true
   },
   "outputs": [],
   "source": []
  }
 ],
 "metadata": {
  "kernelspec": {
   "display_name": "Python 3",
   "language": "python",
   "name": "python3"
  },
  "language_info": {
   "codemirror_mode": {
    "name": "ipython",
    "version": 3
   },
   "file_extension": ".py",
   "mimetype": "text/x-python",
   "name": "python",
   "nbconvert_exporter": "python",
   "pygments_lexer": "ipython3",
   "version": "3.5.2"
  }
 },
 "nbformat": 4,
 "nbformat_minor": 1
}
