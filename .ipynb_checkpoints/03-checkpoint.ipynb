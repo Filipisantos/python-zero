{
 "cells": [
  {
   "cell_type": "markdown",
   "metadata": {},
   "source": [
    "<small><small><i>\n",
    "Este notebook foi baseado nos notebooks disponíveis em [https://gitlab.erc.monash.edu.au/andrease/Python4Maths.git]\n",
    "</i></small></small>"
   ]
  },
  {
   "cell_type": "markdown",
   "metadata": {},
   "source": [
    "# Repetindo sem perder o controle!\n",
    "\n",
    "Python permite que um trecho de código seja executado múltiplas vezes **estruturas de repetição**. \n",
    "\n",
    "Pra não perder o controle do seu código e cair em um loop infinito, estruturas de repetição se baseiam em **condições de parada**.\n",
    "\n",
    "Neste roteiro, você aprenderá a utilizar estes conceitos da linguagem Python.\n",
    "\n",
    "## Estruturas de repetição\n",
    "\n",
    "Muitas vezes, é necessário executar um mesmo trecho de código várias vezes:\n",
    "* Quando um sistema pede uma senha ao usuário, mas ele tem uma certa quantidade de tentativas possívels.\n",
    "* Quando queremos cadastrar múltiplos contatos em uma agenda.\n",
    "* Quando estamos calculando a média de várias avaliações de uma disciplina.\n",
    "\n",
    "Em todas essas situações, precisamos repetir um trecho de código **sem cair em um loop infinito**. Há três situações comuns:\n",
    "* Sabemos quantas vezes queremos executar um código.\n",
    "* Queremos executar um código enquanto uma condição for verdadeira.\n",
    "* Queremos executar um código até que determinada situação aconteça.\n",
    "\n",
    "Python oferece duas estruturas de repetição, que podem ser usadas nas situações descritas acima:"
   ]
  },
  {
   "cell_type": "markdown",
   "metadata": {},
   "source": [
    "| Estrutura | Significado |\n",
    "|:----:|---|\n",
    "| ```for``` | Sabemos quantas vezes queremos executar um código. |\n",
    "| ```while```  | Queremos executar um código até que determinada situação aconteça. <br> Queremos executar um código enquanto uma condição for verdadeira. |"
   ]
  },
  {
   "cell_type": "markdown",
   "metadata": {},
   "source": [
    "## A estrutura ```for```"
   ]
  },
  {
   "cell_type": "markdown",
   "metadata": {},
   "source": [
    "Quando sabemos quantas vezes queremos executar um código, a estrutura de repetição ```for``` deve ser nossa escolha:\n",
    "\n",
    "```python\n",
    "for iterador in intervalo:\n",
    "    expressao\n",
    "    expressao\n",
    "    ...\n",
    "```\n",
    "\n",
    "As regras básicas para o uso da estrutura **for** em Python são:\n",
    "\n",
    "* O trecho de código delimitado por uma estrutura **for** é chamado bloco e deve ser identado.\n",
    "* O procedimento **range(inicio, fim)** permite definir um intervalo de valores que a variavel **iterador** pode assumir durante a execução do ```for```. \n",
    "\n",
    "O exemplo abaixo mostra como esta estrutura pode ser usada para que um código seja repetido por 5 vezes:"
   ]
  },
  {
   "cell_type": "code",
   "execution_count": null,
   "metadata": {
    "collapsed": false,
    "scrolled": true
   },
   "outputs": [],
   "source": [
    "for i in range(0,5):\n",
    "    print(\"Execução\", i+1)"
   ]
  },
  {
   "cell_type": "markdown",
   "metadata": {},
   "source": [
    "Note que a função range define intervalos do tipo **[início, fim)**, isto é, valores maiores ou iguais a **início** e menores que **fim**.\n",
    "\n",
    "Também é possível definir intervalos mais elaborados, criando séries com diferentes crescimentos ou até mesmo decréscimos:"
   ]
  },
  {
   "cell_type": "code",
   "execution_count": null,
   "metadata": {
    "collapsed": false,
    "scrolled": true
   },
   "outputs": [],
   "source": [
    "# Série crescedo de 2 em 2\n",
    "for i in range(0,5,2):\n",
    "    print(\"Valor de i:\", i)"
   ]
  },
  {
   "cell_type": "code",
   "execution_count": null,
   "metadata": {
    "collapsed": false,
    "scrolled": true
   },
   "outputs": [],
   "source": [
    "# Série decrescendo de 5 em 5\n",
    "for i in range(15,-20,-5):\n",
    "    print(\"Valor de i:\", i)"
   ]
  },
  {
   "cell_type": "markdown",
   "metadata": {},
   "source": [
    "### Exercícios de fixação"
   ]
  },
  {
   "cell_type": "markdown",
   "metadata": {},
   "source": [
    "1 - Peça ao usuário suas notas das 3 unidades de uma disciplina e calcule sua média."
   ]
  },
  {
   "cell_type": "code",
   "execution_count": null,
   "metadata": {
    "collapsed": true
   },
   "outputs": [],
   "source": []
  },
  {
   "cell_type": "markdown",
   "metadata": {},
   "source": [
    "2 - Imprima os números pares entre 0 e 30."
   ]
  },
  {
   "cell_type": "code",
   "execution_count": null,
   "metadata": {
    "collapsed": true
   },
   "outputs": [],
   "source": []
  },
  {
   "cell_type": "markdown",
   "metadata": {},
   "source": [
    "3 - Analise os números entre -25 e 50. Se o número for múltiplo de 2, imprima BUS. Se for múltiplo de 3, imprima FEES. Caso seja múltiplo de 2 e de 3 ao mesmo tempo, imprima BUS e FEES."
   ]
  },
  {
   "cell_type": "code",
   "execution_count": null,
   "metadata": {
    "collapsed": true
   },
   "outputs": [],
   "source": []
  },
  {
   "cell_type": "markdown",
   "metadata": {},
   "source": [
    "## A estrutura ```while```"
   ]
  },
  {
   "cell_type": "markdown",
   "metadata": {},
   "source": [
    "Quando queremos executar um código enquanto uma condição for verdadeira, a estrutura de repetição ```while``` deve ser nossa escolha:\n",
    "\n",
    "```python\n",
    "while condicao:\n",
    "    expressao\n",
    "    expressao\n",
    "    ...\n",
    "```\n",
    "\n",
    "As regras básicas para o uso da estrutura **while** em Python são:\n",
    "\n",
    "* O trecho de código delimitado por uma estrutura **while** é chamado bloco e deve ser identado.\n",
    "* O bloco delimitado por uma estrutura **while** será executado enquanto a expressão lógica (```condicao```) for verdadeira (```True```).\n",
    "\n",
    "Um exemplo de uso desta estrutura é o caso em que não se sabe quantas vezes será necessário executar um trecho de código:"
   ]
  },
  {
   "cell_type": "code",
   "execution_count": null,
   "metadata": {
    "collapsed": false,
    "scrolled": true
   },
   "outputs": [],
   "source": [
    "from random import randint\n",
    "\n",
    "n_multiplos = 0\n",
    "while n_multiplos < 3:\n",
    "    numero = randint(0,30)\n",
    "    if numero % 3 == 0:\n",
    "        n_multiplos += 1\n",
    "        print(\"Múltiplo #\", n_multiplos, \"-\", numero)"
   ]
  },
  {
   "cell_type": "markdown",
   "metadata": {},
   "source": [
    "Também é possível utilizar a estrutura de repetição ```while``` quando queremos executar um código até que uma determinada situação ocorra:\n",
    "\n",
    "```python\n",
    "while True:\n",
    "    expressao\n",
    "    expressao\n",
    "    ...\n",
    "    if condicao:\n",
    "        break\n",
    "```\n",
    "\n",
    "As regras básicas para o uso da estrutura **while** neste contexto são:\n",
    "\n",
    "* O bloco será executado uma ou mais vezes, até que a condição se torne verdadeira.\n",
    "* O comando **```break```** provoca a interrupção da repetição.\n",
    "\n",
    "O exemplo abaixo mostra como esta estrutura pode ser usada para solicitar uma senha ao usuário até que ele acerte a senha:"
   ]
  },
  {
   "cell_type": "code",
   "execution_count": null,
   "metadata": {
    "collapsed": false,
    "scrolled": false
   },
   "outputs": [],
   "source": [
    "senha_correta = \"swordfish\"\n",
    "while True:\n",
    "    senha = input(\"Informe sua senha: \")\n",
    "    if senha == senha_correta:\n",
    "        break\n",
    "    else:\n",
    "        print(\"Senha incorreta!\")"
   ]
  },
  {
   "cell_type": "markdown",
   "metadata": {},
   "source": [
    "### Exercícios de fixação"
   ]
  },
  {
   "cell_type": "markdown",
   "metadata": {},
   "source": [
    "1 - Sorteie um número entre 0 e 10 e peça ao usuário para tentar adivinhá-lo. Quando o usuário acertar o número, informe quantas tentativas foram necessárias."
   ]
  },
  {
   "cell_type": "code",
   "execution_count": null,
   "metadata": {
    "collapsed": true
   },
   "outputs": [],
   "source": []
  },
  {
   "cell_type": "markdown",
   "metadata": {
    "collapsed": true
   },
   "source": [
    "## Exercícios do URI"
   ]
  },
  {
   "cell_type": "markdown",
   "metadata": {
    "collapsed": true
   },
   "source": [
    "[1037](https://www.urionlinejudge.com.br/judge/pt/problems/view/1037) - Um histograma é um tipo de gráfico estatístico que particiona os dados disponíveis em subgrupos e informa quantos elementos existem em cada subgrupo.\n",
    "\n",
    "Escreva um código Python que possa ser usado para construir um histograma de um conjunto de números inteiros sorteados no intervalo [0,100), isto é, valores maiores ou iguais a 0 e menores que 100. \n",
    "\n",
    "Por simplicidade, considere que apenas um número será sorteado. Você deve identificar a qual dos intervalos a seguir este número pertence: [0,25), [25,50), [50,75), [75,100). "
   ]
  },
  {
   "cell_type": "markdown",
   "metadata": {},
   "source": [
    "| | Entrada | Saída |\n",
    "|-|:----:|---|\n",
    "| *Exemplo 1* | 5 | [0,25) | \n",
    "| *Exemplo 2* | 50 | [50,75) |\n",
    "| *Exemplo 3* | 74 | [50,75) |"
   ]
  },
  {
   "cell_type": "code",
   "execution_count": null,
   "metadata": {
    "collapsed": true
   },
   "outputs": [],
   "source": []
  },
  {
   "cell_type": "markdown",
   "metadata": {},
   "source": [
    "[1049](https://www.urionlinejudge.com.br/judge/pt/problems/view/1049) - Uma árvore de classificação é uma ferramenta usada em diferentes áreas da ciência para ajudar a identificar objetos por suas características.\n",
    "\n",
    "Considerando a árvore de classificação abaixo, escreva um código Python que identifique um animal por suas características. Mais precisamente, seu código deve receber três textos como entrada e informar ao usuário de qual animal se trata.\n",
    "\n",
    "<img src=\"imgs/UOJ_1049_b.png\">"
   ]
  },
  {
   "cell_type": "markdown",
   "metadata": {},
   "source": [
    "| | Entrada | Saída |\n",
    "|-|----|---|\n",
    "| *Exemplo 1* | vertebrado mamifero onivoro | homem | \n",
    "| *Exemplo 2* | vertebrado ave carnivoro | aguia |\n",
    "| *Exemplo 3* | invertebrado anelideo onivoro | minhoca |"
   ]
  },
  {
   "cell_type": "code",
   "execution_count": null,
   "metadata": {
    "collapsed": true
   },
   "outputs": [],
   "source": []
  },
  {
   "cell_type": "markdown",
   "metadata": {},
   "source": [
    "[1049](https://www.urionlinejudge.com.br/judge/pt/problems/view/1049) - Em sistemas de computação gráfica, compreender diferentes sistemas de coordenadas é fundamental.\n",
    "\n",
    "Considere o sistema de coordenadas cartesiano apresentado na figura abaixo. Ele serve para representar pontos que apresentam duas dimensões, normalmente representados com a notação (x, y), onde x representa a coordenada horizontal e y a vertical.\n",
    "\n",
    "<img src=\"imgs/UOJ_1041.png\">\n",
    "\n",
    "O ponto (0,0) representa a origem dos eixos e é a intersecção entre as quatro subregiões ilustradas na figura abaixo (Q1, Q2, Q3 e Q4, onde Q significa *quadrante*, isto é, uma subregião). Cada quadrante da figura representa pontos com as seguintes características:\n",
    "\n",
    "| Quadrante | Horizontal | Vertical |\n",
    "|:-:|:-:|:-:|\n",
    "| Q1 | x > 0 | y > 0 |\n",
    "| Q2 | x < 0 | y > 0 |\n",
    "| Q3 | x < 0 | y < 0 |\n",
    "| Q4 | x > 0 | y < 0 |\n",
    "\n",
    "Também é possível que um ponto esteja sobre um dos eixos:\n",
    "* Um ponto estará sobre o eixo x se y = 0;\n",
    "* Um ponto estará sobre o eixo y se x = 0.\n",
    "\n",
    "Considerando este contexto, escreva um código Python que leia um ponto (duas coordenadas reais) e informe a primeira condição abaixo que se mostrar verdadeira:\n",
    "* Se o ponto está na \"Origem\";\n",
    "* Se o ponto está sobre o \"Eixo X\";\n",
    "* Se o ponto está sobre o \"Eixo Y\";\n",
    "* Em qual quadrante o ponto está."
   ]
  },
  {
   "cell_type": "markdown",
   "metadata": {},
   "source": [
    "| | Entrada | Saída |\n",
    "|-|:-:|:-:|\n",
    "| *Exemplo 1* | 4.5 -2.2 | Q4 | \n",
    "| *Exemplo 2* | 0.1 0.0 | Eixo X |\n",
    "| *Exemplo 3* | 0.0 0.0 | Origem |"
   ]
  },
  {
   "cell_type": "code",
   "execution_count": null,
   "metadata": {
    "collapsed": true
   },
   "outputs": [],
   "source": []
  },
  {
   "cell_type": "markdown",
   "metadata": {},
   "source": [
    "[1051](https://www.urionlinejudge.com.br/judge/pt/problems/view/1051) - Sistemas contábeis e de recursos humanos precisam conhecer bem a legislação tributária do país para calcular os impostos a serem recolhidos mensalmente sobre o salário dos funcionários. \n",
    "\n",
    "Trabalhadores também precisam entender quanto ganham e porque existem descontos em seus contra-cheques.\n",
    "\n",
    "Neste exercício, você vai ajudar empresas e trabalhadores a entender os descontos da previdência social (INSS).\n",
    "\n",
    "A tabela usada para calcular esses descontos é apresentada a seguir."
   ]
  },
  {
   "cell_type": "markdown",
   "metadata": {},
   "source": [
    "| Salário de contribuição (R\\$) | Alíquota |\n",
    "|-|:-:|:-:|\n",
    "| Até R\\$ 1.693,72 | 8% | \n",
    "| De R\\$ 1.693,73 a R\\$ 2.822,90 | 9% |\n",
    "| De R\\$ 2.822,91 até R\\$ 5.645,80 | 11% |"
   ]
  },
  {
   "cell_type": "markdown",
   "metadata": {},
   "source": [
    "Como você pode ver, o desconto sobre o salário depende da faixa salarial na qual um trabalhador se enquadre.\n",
    "\n",
    "Além disso, existe um teto na tabela que determina que pessoas que ganhem a partir de R\\$ 5.645,81 devem contribuir com R\\$ 621,04 (11% de R$ 5.645,80).\n",
    "\n",
    "Escreva um código Python que receba um salário bruto (antes do desconto) e informe o valor da contribuição para o INSS e o salário líquido (após o desconto)."
   ]
  },
  {
   "cell_type": "markdown",
   "metadata": {},
   "source": [
    "| | Entrada | Saída |\n",
    "|-|:-:|-|\n",
    "| *Exemplo 1* | 7456.57 | 621.04 6835.53 | \n",
    "| *Exemplo 2* | 2822.90 | 254.06 2568.84 |\n",
    "| *Exemplo 3* | 1693.73 | 152.44 1541.29 |"
   ]
  },
  {
   "cell_type": "code",
   "execution_count": null,
   "metadata": {
    "collapsed": true
   },
   "outputs": [],
   "source": []
  },
  {
   "cell_type": "markdown",
   "metadata": {},
   "source": [
    "Um segundo tipo de dedução mensal que incide sobre os ganhos dos trabalhadores é o *imposto de renda sobre pessoa física* (IRPF).\n",
    "\n",
    "Para o cálculo do IRPF, utiliza-se como base de cálculo o salário bruto descontado da contribuição do INSS. \n",
    "\n",
    "As principais diferenças em relação ao cálculo do INSS são:\n",
    "* Quem possui salário-base até R\\$1.903,98 é isento do pagamento do IRPF.\n",
    "* Não há teto para a contribuição do IRPF.\n",
    "* O valor do IRPF cobrado a uma pessoa é abatido de um valor que varia em função da alíquota correspondente.\n",
    "\n",
    "A tabela usada para o cálculo do IRPF é mostrada abaixo."
   ]
  },
  {
   "cell_type": "markdown",
   "metadata": {},
   "source": [
    "| Base de cálculo (R\\$) | Alíquota | Parcela a deduzir |\n",
    "|-|:-:|:-:|:-:|\n",
    "| Até R\\$ 1.903,98 | - | - |\n",
    "| De R\\$ 1.903,99 até R\\$ 2.826,65 | 7,5% | R\\$ 142,80 |\n",
    "| De R\\$ 2.826,66 até R\\$ 3.751,05 | 15% | R\\$ 354,80 |\n",
    "| De R\\$ 3.751,06 até R\\$ 4.664,68 | 22,5% | R\\$ 636,13 |\n",
    "| Acima de R\\$ 4.664,68 | 27,5% | R\\$ 869,36 |"
   ]
  },
  {
   "cell_type": "markdown",
   "metadata": {},
   "source": [
    "Para entender melhor o cálculo do IRPF, vamos tomar como exemplo uma pessoa que, descontada a contribuição do INSS, ganha R\\$ 2.000,00.\n",
    "\n",
    "A alíquota para esta remuneração é de 7,5% e o abatimento de R\\$142,80. Assim, a contribuição do IRPF será de R\\$ 2.000,00 * 7,5% - R\\$142,80 = R\\$ 7,20.\n",
    "\n",
    "Escreva um código Python que receba um salário-base (já descontado do INSS) e informe o valor da contribuição do IRPF e o salário líquido (após o desconto do IRPF)."
   ]
  },
  {
   "cell_type": "markdown",
   "metadata": {},
   "source": [
    "| | Entrada | Saída |\n",
    "|-|:-:|-|\n",
    "| *Exemplo 1* | 6835.53 | 1010.41 5825.12 | \n",
    "| *Exemplo 2* | 2568.84 | 49.86 2518.98 |\n",
    "| *Exemplo 3* | 1541.29 | 0.00 1541.29 |"
   ]
  },
  {
   "cell_type": "code",
   "execution_count": null,
   "metadata": {
    "collapsed": true
   },
   "outputs": [],
   "source": []
  }
 ],
 "metadata": {
  "kernelspec": {
   "display_name": "Python 3",
   "language": "python",
   "name": "python3"
  },
  "language_info": {
   "codemirror_mode": {
    "name": "ipython",
    "version": 3
   },
   "file_extension": ".py",
   "mimetype": "text/x-python",
   "name": "python",
   "nbconvert_exporter": "python",
   "pygments_lexer": "ipython3",
   "version": "3.5.2"
  }
 },
 "nbformat": 4,
 "nbformat_minor": 1
}
